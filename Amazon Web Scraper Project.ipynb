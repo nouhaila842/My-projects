{
 "cells": [
  {
   "cell_type": "markdown",
   "id": "8d27ff1f-648f-4d75-a12f-4f04492cc873",
   "metadata": {},
   "source": [
    "# Résumé"
   ]
  },
  {
   "cell_type": "markdown",
   "id": "27c2fafc-15f4-4179-bf44-b23496268ccc",
   "metadata": {},
   "source": [
    "Ce projet vise à automatiser le suivi des prix d'un produit spécifique sur Amazon. Il utilise des outils de web scraping comme requests et BeautifulSoup pour extraire les informations du produit, notamment son titre et son prix. En cas de détection d'un CAPTCHA, le script utilise Selenium pour contourner l'obstacle. Chaque jour, le prix est vérifié, puis ajouté à un fichier CSV pour un suivi historique.\n",
    "\n",
    "Lorsque le prix du produit tombe sous un seuil déterminé (750€ dans ce cas), une alerte par e-mail est envoyée à l'utilisateur pour lui signaler l'opportunité d'achat. Le processus est entièrement automatisé, avec une vérification quotidienne grâce à une boucle qui permet de vérifier les prix toutes les 24 heures, sans nécessiter d'intervention manuelle."
   ]
  },
  {
   "cell_type": "markdown",
   "id": "26851d85-68e2-40ef-b5f9-e302785aa7ae",
   "metadata": {},
   "source": [
    "## Importation des bibliothèques nécessaires"
   ]
  },
  {
   "cell_type": "code",
   "execution_count": 28,
   "id": "7650c1ea-dc06-4b76-b62e-690162a8ca45",
   "metadata": {},
   "outputs": [],
   "source": [
    "from bs4 import BeautifulSoup\n",
    "import requests\n",
    "import smtplib\n",
    "import time\n",
    "import datetime\n",
    "import csv\n",
    "import pandas as pd\n",
    "from selenium import webdriver"
   ]
  },
  {
   "cell_type": "markdown",
   "id": "75944ead-9be9-41a1-bc12-c52c04e6b06d",
   "metadata": {},
   "source": [
    "Ces bibliothèques sont utilisées pour différentes parties du processus, comme la récupération des données d'une page web, l'analyse de contenu HTML, l'envoi d'e-mails et la gestion des fichiers CSV.  \r\n",
    "\r\n",
    "- **BeautifulSoup** : Pour l'analyse de contenu HTML.  \r\n",
    "- **requests** : Pour récupérer le contenu des pages web.  \r\n",
    "- **smtplib** : Pour envoyer des e-mails.  \r\n",
    "- **time** : Pour créer des pauses dans le code.  \r\n",
    "- **datetime** : Pour obtenir la date actuelle.  \r\n",
    "- **csv** : Pour gérer les fichiers CSV.  \r\n",
    "- **pandas** : Pour faciliter la lecture et la gestion des données CSV.  \r\n"
   ]
  },
  {
   "cell_type": "markdown",
   "id": "4d720435-e674-4e35-9c52-be6bebe3cabb",
   "metadata": {},
   "source": [
    "## Récupération et analyse de la page web"
   ]
  },
  {
   "cell_type": "code",
   "execution_count": 12,
   "id": "6a453a43-c4f5-4c80-9612-ce93d022f3ed",
   "metadata": {
    "scrolled": true
   },
   "outputs": [],
   "source": [
    "# URL du produit\n",
    "url = 'https://www.amazon.fr/Apple-iPhone-15-128-Go/dp/B0CHXFCYCR'\n",
    "\n",
    "# En-têtes HTTP pour simuler une requête de navigateur\n",
    "headers = {\n",
    "    \"User-Agent\": \"Mozilla/5.0 (Windows NT 10.0; Win64; x64) AppleWebKit/537.36 (KHTML, like Gecko) Chrome/131.0.0.0 Safari/537.36\",\n",
    "    \"Accept-Encoding\": \"gzip, deflate\",\n",
    "    \"Accept\": \"text/html,application/xhtml+xml,application/xml;q=0.9,*/*;q=0.8\",\n",
    "    \"DNT\": \"1\",\n",
    "    \"Connection\": \"close\",\n",
    "    \"Upgrade-Insecure-Requests\": \"1\"\n",
    "}\n",
    "\n",
    "# Récupérer le contenu de la page via requests\n",
    "response = requests.get(url, headers=headers)"
   ]
  },
  {
   "cell_type": "markdown",
   "id": "28eed424-f6d1-4695-acfc-a8bd7feb1fb7",
   "metadata": {},
   "source": [
    "- **L'URL de la page produit Amazon** est définie pour accéder à une ressource spécifique, ici la page d'un iPhone 15.  \n",
    "\n",
    "- Les **en-têtes HTTP** sont configurés pour simuler une requête provenant d'un navigateur (via le champ **User-Agent** et autres paramètres) afin d'éviter que le site identifie la requête comme un bot et la bloque.  \n",
    "\n",
    "- Une **requête HTTP GET** est envoyée à l'URL à l'aide de la bibliothèque **requests**, ce qui permet de récupérer le contenu brut (**HTML**) de la page.\n",
    "\n",
    "\n",
    "**Note :**\n",
    "Dans ce projet, j'ai utilisé le service *httpbin.org* pour consulter les en-têtes de requêtes HTTP. En accédant à l'URL <ins>httpbin.org/get</ins>, le site renvoie une réponse JSON contenant les en-têtes (headers) envoyés avec la requête."
   ]
  },
  {
   "cell_type": "code",
   "execution_count": 13,
   "id": "283ce503-9efe-44a6-952d-ac05d3073b84",
   "metadata": {},
   "outputs": [
    {
     "name": "stdout",
     "output_type": "stream",
     "text": [
      "CAPTCHA détecté. Utilisation de Selenium pour contourner.\n"
     ]
    },
    {
     "name": "stdin",
     "output_type": "stream",
     "text": [
      "Veuillez résoudre le CAPTCHA dans le navigateur, puis appuyez sur Entrée. \n"
     ]
    }
   ],
   "source": [
    "# Si un CAPTCHA est détecté, utiliser Selenium\n",
    "if \"captcha\" in response.text.lower():\n",
    "    print(\"CAPTCHA détecté. Utilisation de Selenium pour contourner.\")\n",
    "    \n",
    "    # Initialisation du driver Selenium\n",
    "    driver = webdriver.Chrome()  # Assurez-vous d'avoir ChromeDriver installé et dans votre PATH\n",
    "    driver.get(url)\n",
    "    \n",
    "    # Demander à l'utilisateur de résoudre le CAPTCHA\n",
    "    input(\"Veuillez résoudre le CAPTCHA dans le navigateur, puis appuyez sur Entrée.\")\n",
    "    \n",
    "    # Récupérer le HTML après la résolution du CAPTCHA\n",
    "    page_source = driver.page_source\n",
    "    driver.quit()\n",
    "    html_content = page_source\n",
    "else:\n",
    "    # Si aucun CAPTCHA, utiliser la réponse de requests\n",
    "    html_content = response.content"
   ]
  },
  {
   "cell_type": "markdown",
   "id": "c9dab02b-d1a6-4fa5-9eed-e25826dbe25f",
   "metadata": {},
   "source": [
    "## Extraction des données du produit (titre et prix)"
   ]
  },
  {
   "cell_type": "code",
   "execution_count": null,
   "id": "3f7eff1b-a0c6-4b17-b5ed-13abfb6c9279",
   "metadata": {},
   "outputs": [],
   "source": [
    "# Analyser le contenu HTML avec BeautifulSoup\n",
    "soup = BeautifulSoup(html_content, \"html.parser\")\n",
    "soup"
   ]
  },
  {
   "cell_type": "code",
   "execution_count": 16,
   "id": "102511c7-388c-4309-9e25-495ff29e98f5",
   "metadata": {},
   "outputs": [],
   "source": [
    "# Extraire le titre du produit\n",
    "title = soup.find(id='productTitle').get_text().strip() if soup.find(id='productTitle') else \"Titre introuvable\""
   ]
  },
  {
   "cell_type": "code",
   "execution_count": 17,
   "id": "016ed1a9-4eed-49e3-ba99-7ed15d92b9e7",
   "metadata": {},
   "outputs": [
    {
     "data": {
      "text/plain": [
       "'Apple iPhone 15 (128 Go) - Noir'"
      ]
     },
     "execution_count": 17,
     "metadata": {},
     "output_type": "execute_result"
    }
   ],
   "source": [
    "title"
   ]
  },
  {
   "cell_type": "code",
   "execution_count": 22,
   "id": "39664dc8-e4e4-4db7-afc7-07ba605bab5a",
   "metadata": {},
   "outputs": [
    {
     "name": "stdout",
     "output_type": "stream",
     "text": [
      "Prix du produit en float : 772.0\n"
     ]
    }
   ],
   "source": [
    "# Extraire le prix du produit et enlever les espaces\n",
    "price = soup.find(id='tp_price_block_total_price_ww')\n",
    "if price:\n",
    "    price = price.get_text().strip()[:6]  # Prendre les 6 premiers caractères du prix\n",
    "    price = price.replace(' ', '')  # Supprimer les espaces éventuels\n",
    "    price = price.replace(',', '.')  # Remplacer la virgule par un point\n",
    "else:\n",
    "    price = \"Prix introuvable\"\n",
    "\n",
    "# Conversion en float si le prix est valide\n",
    "try:\n",
    "    price_float = float(price)\n",
    "    print(f\"Prix du produit en float : {price_float}\")\n",
    "except ValueError:\n",
    "    print(f\"Le prix est invalide ou introuvable : {price}\")"
   ]
  },
  {
   "cell_type": "markdown",
   "id": "86fb704a-8f3e-4628-a891-a2133b64b567",
   "metadata": {},
   "source": [
    "## Récupération de la date actuell et ajouter les données dans un fichier CSV"
   ]
  },
  {
   "cell_type": "code",
   "execution_count": 23,
   "id": "208e58a3-07c4-4238-a49c-3f0bd30ecfc4",
   "metadata": {},
   "outputs": [],
   "source": [
    "# Obtenir la date actuelle\n",
    "today = datetime.date.today()"
   ]
  },
  {
   "cell_type": "code",
   "execution_count": 26,
   "id": "14e7f26b-373c-47e8-be30-cdca61383c55",
   "metadata": {},
   "outputs": [],
   "source": [
    "header = ['Title','Price','Date'] # Définir l'en-tête du fichier CSV\n",
    "data = [title, price, today]# Ajouter les données extraites dans un fichier CSV\n",
    "\n",
    "with open('AmazonWebScraperDataset.csv','w',newline='', encoding='UTF8') as f:\n",
    "    writer = csv.writer(f)\n",
    "    writer.writerow(header)\n",
    "    writer.writerow(data)"
   ]
  },
  {
   "cell_type": "code",
   "execution_count": 29,
   "id": "3592b4cb-99c3-41fe-b61f-0b12bef87cbe",
   "metadata": {},
   "outputs": [
    {
     "data": {
      "text/html": [
       "<div>\n",
       "<style scoped>\n",
       "    .dataframe tbody tr th:only-of-type {\n",
       "        vertical-align: middle;\n",
       "    }\n",
       "\n",
       "    .dataframe tbody tr th {\n",
       "        vertical-align: top;\n",
       "    }\n",
       "\n",
       "    .dataframe thead th {\n",
       "        text-align: right;\n",
       "    }\n",
       "</style>\n",
       "<table border=\"1\" class=\"dataframe\">\n",
       "  <thead>\n",
       "    <tr style=\"text-align: right;\">\n",
       "      <th></th>\n",
       "      <th>Title</th>\n",
       "      <th>Price</th>\n",
       "      <th>Date</th>\n",
       "    </tr>\n",
       "  </thead>\n",
       "  <tbody>\n",
       "    <tr>\n",
       "      <th>0</th>\n",
       "      <td>Apple iPhone 15 (128 Go) - Noir</td>\n",
       "      <td>772.0</td>\n",
       "      <td>2024-12-24</td>\n",
       "    </tr>\n",
       "  </tbody>\n",
       "</table>\n",
       "</div>"
      ],
      "text/plain": [
       "                             Title  Price        Date\n",
       "0  Apple iPhone 15 (128 Go) - Noir  772.0  2024-12-24"
      ]
     },
     "execution_count": 29,
     "metadata": {},
     "output_type": "execute_result"
    }
   ],
   "source": [
    "# Lire le fichier CSV pour vérifier son contenu\n",
    "df = pd.read_csv('AmazonWebScraperDataset.csv')\n",
    "df"
   ]
  },
  {
   "cell_type": "code",
   "execution_count": 34,
   "id": "99b19a0c-c19b-4774-841c-7c6c9bd6fafc",
   "metadata": {},
   "outputs": [],
   "source": [
    "# Ajouter de nouvelles données au fichier CSV (en cas de nouvelles vérifications)\n",
    "with open('AmazonWebScraperDataset.csv', 'a+', newline='', encoding='UTF8') as f:\n",
    "    writer = csv.writer(f)\n",
    "    writer.writerow(data)"
   ]
  },
  {
   "cell_type": "code",
   "execution_count": 35,
   "id": "a7712c18-d073-4a68-a10a-406372aa06f7",
   "metadata": {},
   "outputs": [
    {
     "data": {
      "text/html": [
       "<div>\n",
       "<style scoped>\n",
       "    .dataframe tbody tr th:only-of-type {\n",
       "        vertical-align: middle;\n",
       "    }\n",
       "\n",
       "    .dataframe tbody tr th {\n",
       "        vertical-align: top;\n",
       "    }\n",
       "\n",
       "    .dataframe thead th {\n",
       "        text-align: right;\n",
       "    }\n",
       "</style>\n",
       "<table border=\"1\" class=\"dataframe\">\n",
       "  <thead>\n",
       "    <tr style=\"text-align: right;\">\n",
       "      <th></th>\n",
       "      <th>Title</th>\n",
       "      <th>Price</th>\n",
       "      <th>Date</th>\n",
       "    </tr>\n",
       "  </thead>\n",
       "  <tbody>\n",
       "    <tr>\n",
       "      <th>0</th>\n",
       "      <td>Apple iPhone 15 (128 Go) - Noir</td>\n",
       "      <td>772.0</td>\n",
       "      <td>2024-12-24</td>\n",
       "    </tr>\n",
       "    <tr>\n",
       "      <th>1</th>\n",
       "      <td>Apple iPhone 15 (128 Go) - Noir</td>\n",
       "      <td>772.0</td>\n",
       "      <td>2024-12-24</td>\n",
       "    </tr>\n",
       "    <tr>\n",
       "      <th>2</th>\n",
       "      <td>Apple iPhone 15 (128 Go) - Noir</td>\n",
       "      <td>772.0</td>\n",
       "      <td>2024-12-24</td>\n",
       "    </tr>\n",
       "    <tr>\n",
       "      <th>3</th>\n",
       "      <td>Apple iPhone 15 (128 Go) - Noir</td>\n",
       "      <td>772.0</td>\n",
       "      <td>2024-12-24</td>\n",
       "    </tr>\n",
       "  </tbody>\n",
       "</table>\n",
       "</div>"
      ],
      "text/plain": [
       "                             Title  Price        Date\n",
       "0  Apple iPhone 15 (128 Go) - Noir  772.0  2024-12-24\n",
       "1  Apple iPhone 15 (128 Go) - Noir  772.0  2024-12-24\n",
       "2  Apple iPhone 15 (128 Go) - Noir  772.0  2024-12-24\n",
       "3  Apple iPhone 15 (128 Go) - Noir  772.0  2024-12-24"
      ]
     },
     "execution_count": 35,
     "metadata": {},
     "output_type": "execute_result"
    }
   ],
   "source": [
    "df = pd.read_csv('AmazonWebScraperDataset.csv')\n",
    "df"
   ]
  },
  {
   "cell_type": "markdown",
   "id": "0637c9f1-2930-4900-91c2-bfa295b02bd0",
   "metadata": {},
   "source": [
    "## Fonction d'envoi d'email"
   ]
  },
  {
   "cell_type": "code",
   "execution_count": 37,
   "id": "c2c16c7a-85e8-4d99-9aa8-f426da92e02d",
   "metadata": {},
   "outputs": [],
   "source": [
    "def envoyer_mail():\n",
    "        # Connexion au serveur SMTP de Gmail\n",
    "        server = smtplib.SMIP_SSL('smtp.gmail.com',465)\n",
    "        server.ehlo()\n",
    "    \n",
    "        # Connexion avec les identifiants\n",
    "        server.login('nouhaila@gmail.com','xxxpasswordxxx')\n",
    "        # Sujet et corps du mail\n",
    "        subject = \"Le téléphone que vous voulez est en dessous de 810€ ! C'est votre chance d'acheter !\"\n",
    "        body = \"Nouhaila, c'est le moment que nous attendions, n'attendez plus pour acheter le téléphone de vos rêves !\"\n",
    "\n",
    "        # Créer le message à envoyer\n",
    "        msg = f\"Subject: {subject}\\n\\n{body}\"\n",
    "    \n",
    "        # Envoyer le mail\n",
    "        server.sendmail(\n",
    "            'nouhaila@gmail.com',\n",
    "            msg\n",
    "            )"
   ]
  },
  {
   "cell_type": "code",
   "execution_count": 38,
   "id": "fc6e6c35-138b-4966-92f6-638432a6fdea",
   "metadata": {},
   "outputs": [],
   "source": [
    "# Définir la fonction qui vérifie les prix et envoie un mail si le prix est sous le seuil\n",
    "def verifier_prix():\n",
    "    # Requête pour récupérer la page produit\n",
    "    page = requests.get(URL, headers=headers)\n",
    "    soup1 = BeautifulSoup(page.content, \"html.parser\")\n",
    "    soup2 = BeautifulSoup(soup1.prettify(), \"html.parser\")\n",
    "    \n",
    "    # Extraire le titre et le prix du produit\n",
    "    title = soup2.find(id='productTitle').get_text()\n",
    "    price = soup2.find(id='tp_price_block_total_price_ww').get_text()\n",
    "    price = price.strip()[:6]\n",
    "    title = title.strip()\n",
    "    \n",
    "    # Obtenir la date actuelle\n",
    "    today = datetime.date.today()\n",
    "    \n",
    "    # Ajouter les nouvelles données dans le fichier CSV\n",
    "    header = ['Titre', 'Prix', 'Date']\n",
    "    data = [title, price, today]\n",
    "\n",
    "    with open('AmazonWebScraperDataset.csv', 'a+', newline='', encoding='UTF8') as f:\n",
    "        writer = csv.writer(f)\n",
    "        writer.writerow(data)\n",
    "\n",
    "    # Si le prix est inférieur à 750€, envoyer un email\n",
    "    if float(price.replace(\"€\", \"\").replace(\",\", \".\")) < 750:\n",
    "        envoyer_mail()"
   ]
  },
  {
   "cell_type": "markdown",
   "id": "c87d98b1-7755-4c72-9c0a-8c47147f1080",
   "metadata": {},
   "source": [
    "## Vérification automatique du prix tous les jours"
   ]
  },
  {
   "cell_type": "code",
   "execution_count": null,
   "id": "b67aa6bb-44a2-473e-8b17-57bd15d56b76",
   "metadata": {},
   "outputs": [],
   "source": [
    "while True:\n",
    "    verifier_prix()\n",
    "    time.sleep(86400)  # Délai de 86400 secondes (24 heures)"
   ]
  },
  {
   "cell_type": "code",
   "execution_count": null,
   "id": "6201d7d9-5fb4-4e09-bab2-521d806b4e83",
   "metadata": {},
   "outputs": [],
   "source": [
    "# Lire le fichier CSV après chaque itération pour vérifier les nouvelles données\n",
    "df = pd.read_csv('AmazonWebScraperDataset.csv')\n",
    "df"
   ]
  }
 ],
 "metadata": {
  "kernelspec": {
   "display_name": "Python 3 (ipykernel)",
   "language": "python",
   "name": "python3"
  },
  "language_info": {
   "codemirror_mode": {
    "name": "ipython",
    "version": 3
   },
   "file_extension": ".py",
   "mimetype": "text/x-python",
   "name": "python",
   "nbconvert_exporter": "python",
   "pygments_lexer": "ipython3",
   "version": "3.11.7"
  }
 },
 "nbformat": 4,
 "nbformat_minor": 5
}
